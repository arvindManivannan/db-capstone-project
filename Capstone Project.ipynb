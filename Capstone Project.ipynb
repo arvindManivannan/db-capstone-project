{
 "cells": [
  {
   "cell_type": "code",
   "execution_count": 1,
   "id": "a3930827-a1b3-4931-9536-ffd8566662e2",
   "metadata": {
    "scrolled": true
   },
   "outputs": [
    {
     "name": "stdout",
     "output_type": "stream",
     "text": [
      "Requirement already satisfied: mysql-connector-python in c:\\users\\arvin\\appdata\\local\\programs\\python\\python312\\lib\\site-packages (9.0.0)\n"
     ]
    },
    {
     "name": "stderr",
     "output_type": "stream",
     "text": [
      "\n",
      "[notice] A new release of pip is available: 24.0 -> 24.2\n",
      "[notice] To update, run: python.exe -m pip install --upgrade pip\n"
     ]
    }
   ],
   "source": [
    "!pip install mysql-connector-python"
   ]
  },
  {
   "cell_type": "code",
   "execution_count": 2,
   "id": "ebcfa5aa-48f0-4960-965e-5dd7be5a0fd6",
   "metadata": {},
   "outputs": [],
   "source": [
    "import mysql.connector as connector"
   ]
  },
  {
   "cell_type": "code",
   "execution_count": 4,
   "id": "e4af999d-dba3-45d0-aeb3-3744d9089124",
   "metadata": {},
   "outputs": [],
   "source": [
    "#Creating new connection\n",
    "connection = connector.connect(user=\"Admin1\", password=\"Admin1@123\", db=\"little_lemon_db\")"
   ]
  },
  {
   "cell_type": "code",
   "execution_count": 5,
   "id": "00290422-9e69-4dbb-b468-6f56df470775",
   "metadata": {},
   "outputs": [],
   "source": [
    "#Initializing Cursor\n",
    "cursor = connection.cursor()"
   ]
  },
  {
   "cell_type": "code",
   "execution_count": 6,
   "id": "9bfb4bb6-0acd-403b-893b-50f3035bc8a4",
   "metadata": {},
   "outputs": [],
   "source": [
    "#Show tables in database\n",
    "show_tables_query = \"SHOW TABLES;\"\n",
    "cursor.execute(show_tables_query)"
   ]
  },
  {
   "cell_type": "code",
   "execution_count": 7,
   "id": "d46c3449-41e4-4333-a4aa-1c8ff6d64f1b",
   "metadata": {},
   "outputs": [
    {
     "name": "stdout",
     "output_type": "stream",
     "text": [
      "[('bookings',), ('customers',), ('menu',), ('menuitems',), ('orderdelivery',), ('orders',), ('ordersview',), ('staff',)]\n"
     ]
    }
   ],
   "source": [
    "#Saving data from the cursor to a variable and print\n",
    "results = cursor.fetchall()\n",
    "print(results)"
   ]
  },
  {
   "cell_type": "code",
   "execution_count": 8,
   "id": "5518c537-fd62-4b6b-9bf7-d6bf49a61eae",
   "metadata": {},
   "outputs": [],
   "source": [
    "#Get Customer details who placed order greater than $60\n",
    "customer_details_campaign_query = \"\"\"\n",
    "SELECT customers.FullName, customers.ContactNumber, customers.Email, orders.BillAmount\n",
    "FROM customers\n",
    "INNER JOIN orders ON customers.CustomerID = orders.CustomerID\n",
    "WHERE orders.BillAmount > 60;\n",
    "\"\"\""
   ]
  },
  {
   "cell_type": "code",
   "execution_count": 9,
   "id": "2eea208a-e4f7-43f6-9bb8-5f1c5102de2d",
   "metadata": {},
   "outputs": [],
   "source": [
    "cursor.execute(customer_details_campaign_query)"
   ]
  },
  {
   "cell_type": "code",
   "execution_count": 11,
   "id": "95d26cac-2177-4c64-9353-3fb4bd211e6a",
   "metadata": {},
   "outputs": [
    {
     "name": "stdout",
     "output_type": "stream",
     "text": [
      "('FullName', 'ContactNumber', 'Email', 'BillAmount')\n",
      "('Vanessa McCarthy', 35658954, 'vanessa@hello.com', Decimal('250'))\n",
      "('Marcos Romero', 35468864, 'marcos@hello.com', Decimal('200'))\n",
      "('Diana Pinto', 36678964, 'diana@hello.com', Decimal('140'))\n",
      "('Patrick Iversen', 34578456, 'patrick@hello.com', Decimal('120'))\n",
      "('Iva Mcpherson', 36978456, 'iva@hello.com', Decimal('100'))\n"
     ]
    }
   ],
   "source": [
    "#Saving results to a variable\n",
    "dataset = cursor.fetchall()\n",
    "print(cursor.column_names)\n",
    "for data in dataset:\n",
    "    print(data)"
   ]
  },
  {
   "cell_type": "code",
   "execution_count": null,
   "id": "b3058550-3476-4954-bce4-9a84588bcce9",
   "metadata": {},
   "outputs": [],
   "source": []
  }
 ],
 "metadata": {
  "kernelspec": {
   "display_name": "Python 3 (ipykernel)",
   "language": "python",
   "name": "python3"
  },
  "language_info": {
   "codemirror_mode": {
    "name": "ipython",
    "version": 3
   },
   "file_extension": ".py",
   "mimetype": "text/x-python",
   "name": "python",
   "nbconvert_exporter": "python",
   "pygments_lexer": "ipython3",
   "version": "3.12.4"
  }
 },
 "nbformat": 4,
 "nbformat_minor": 5
}
